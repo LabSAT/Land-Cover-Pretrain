{
 "cells": [
  {
   "cell_type": "markdown",
   "metadata": {},
   "source": [
    "# Satellite Image Processing \n",
    "\n",
    "## 2020년 08월 31일\n",
    "\n",
    "---"
   ]
  },
  {
   "cell_type": "code",
   "execution_count": 2,
   "metadata": {
    "ExecuteTime": {
     "end_time": "2020-08-31T10:16:37.484378Z",
     "start_time": "2020-08-31T10:16:37.473806Z"
    }
   },
   "outputs": [],
   "source": [
    "import sys\n",
    "import os\n",
    "\n",
    "# Google Colab Version\n",
    "# sys.path.append(str(base_dir))\n",
    "\n",
    "\n",
    "# Local Version\n",
    "PACKAGE_PARENT = '..'\n",
    "SCRIPT_DIR = os.path.dirname(os.path.realpath(os.path.join(os.getcwd(), os.path.expanduser(\"__file__\"))))\n",
    "sys.path.append(os.path.normpath(os.path.join(SCRIPT_DIR, PACKAGE_PARENT)))"
   ]
  },
  {
   "cell_type": "code",
   "execution_count": 5,
   "metadata": {
    "ExecuteTime": {
     "end_time": "2020-08-31T10:18:09.793464Z",
     "start_time": "2020-08-31T10:18:09.786896Z"
    }
   },
   "outputs": [],
   "source": [
    "from utils import preprocess, model #earth"
   ]
  },
  {
   "cell_type": "markdown",
   "metadata": {},
   "source": [
    "# 1. Unzip & Untar Data"
   ]
  },
  {
   "cell_type": "code",
   "execution_count": 20,
   "metadata": {
    "ExecuteTime": {
     "end_time": "2020-08-31T12:09:24.623341Z",
     "start_time": "2020-08-31T12:09:24.610038Z"
    }
   },
   "outputs": [],
   "source": [
    "import tarfile\n",
    "import zipfile\n",
    "\n",
    "def untar_file(file_path, save_path):\n",
    "    os.makedirs(save_path, exist_ok=True)\n",
    "    if file_path.endswith(\"tar.gz\"):\n",
    "        method = \"r:gz\"\n",
    "    elif file_path.endswith(\"tar\"):\n",
    "        method = \"r:\"\n",
    "        \n",
    "    with tarfile.open(file_path, method) as tar:\n",
    "        tar.extractall(save_path)\n",
    "\n",
    "def unzip_file(file_path, save_path):\n",
    "    os.makedirs(save_path, exist_ok=True)\n",
    "    with zipfile.ZipFile(file_path, 'r') as zip_ref:\n",
    "        zip_ref.extractall(save_path)"
   ]
  },
  {
   "cell_type": "code",
   "execution_count": 21,
   "metadata": {
    "ExecuteTime": {
     "end_time": "2020-08-31T13:07:51.431273Z",
     "start_time": "2020-08-31T12:09:25.545081Z"
    }
   },
   "outputs": [],
   "source": [
    "fnames = \"BigEarthNet-v1.0.tar.gz\"\n",
    "\n",
    "untar_file(f\"../data/{fnames}\", f\"../data/bigearth/\")"
   ]
  },
  {
   "cell_type": "code",
   "execution_count": null,
   "metadata": {},
   "outputs": [],
   "source": [
    "fnames = \"eurosat.zip\"\n",
    "\n",
    "unzip_file(f\"../data/{fnames}\", f\"../data/eurosat/\")"
   ]
  },
  {
   "cell_type": "code",
   "execution_count": 6,
   "metadata": {
    "ExecuteTime": {
     "end_time": "2020-08-31T11:56:58.841397Z",
     "start_time": "2020-08-31T11:56:58.833742Z"
    }
   },
   "outputs": [
    {
     "data": {
      "text/plain": [
       "True"
      ]
     },
     "execution_count": 6,
     "metadata": {},
     "output_type": "execute_result"
    }
   ],
   "source": [
    "\"test.tar.gz\".endswith(\"tar.gz\")"
   ]
  },
  {
   "cell_type": "code",
   "execution_count": null,
   "metadata": {},
   "outputs": [],
   "source": [
    "import tarfile\n",
    "import gzip\n",
    "import shutil\n",
    "\n",
    "def unzip_nightlights_of(path, year=2013):\n",
    "  \"\"\"\n",
    "  F18의 2010 ~ 2013 선택 가능\n",
    "  \"\"\"\n",
    "  print(year)\n",
    "  year = str(year)\n",
    "  target = os.path.join(path, year)\n",
    "  file_loc = target + '/nightlights_data'\n",
    "\n",
    "  tar = tarfile.open(file_loc)\n",
    "  tar.extractall(path=target)\n",
    "\n",
    "  for file in os.listdir(os.path.join(path, year)):\n",
    "      file_path = os.path.join(NIGHTLIGHTS_DIR, year, file)\n",
    "      if 'stable' in file: # only need stable_lights\n",
    "          if file.split('.')[-1] == 'gz':\n",
    "              # unzip the file is a .gz file\n",
    "              with gzip.open(file_path, 'rb') as f_in:\n",
    "                  with open(file_path[:-3], 'wb') as f_out:\n",
    "                      shutil.copyfileobj(f_in, f_out)\n",
    "                      print(f'Saved to {path}')\n",
    "      # os.remove(path)\n",
    "\n"
   ]
  },
  {
   "cell_type": "markdown",
   "metadata": {},
   "source": [
    "# 2. Tiff Image Preprocessing\n",
    "\n",
    "- multi-spectral bands\n",
    "- Only RGB bands"
   ]
  },
  {
   "cell_type": "code",
   "execution_count": null,
   "metadata": {},
   "outputs": [],
   "source": [
    "import tifffile as tiff\n",
    "\n",
    "im_rgb = tiff.imread(str(LIGHTS_DIR)) #.transpose([1, 2, 0])\n",
    "tiff.imshow(im_rgb)"
   ]
  },
  {
   "cell_type": "markdown",
   "metadata": {},
   "source": [
    "# 3. RGB Image "
   ]
  },
  {
   "cell_type": "code",
   "execution_count": null,
   "metadata": {},
   "outputs": [],
   "source": []
  }
 ],
 "metadata": {
  "kernelspec": {
   "display_name": "Python 3",
   "language": "python",
   "name": "python3"
  },
  "language_info": {
   "codemirror_mode": {
    "name": "ipython",
    "version": 3
   },
   "file_extension": ".py",
   "mimetype": "text/x-python",
   "name": "python",
   "nbconvert_exporter": "python",
   "pygments_lexer": "ipython3",
   "version": "3.7.6"
  },
  "toc": {
   "base_numbering": 1,
   "nav_menu": {},
   "number_sections": false,
   "sideBar": true,
   "skip_h1_title": false,
   "title_cell": "Table of Contents",
   "title_sidebar": "Contents",
   "toc_cell": false,
   "toc_position": {},
   "toc_section_display": true,
   "toc_window_display": true
  }
 },
 "nbformat": 4,
 "nbformat_minor": 4
}
