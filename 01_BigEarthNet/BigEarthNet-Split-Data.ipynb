{
 "cells": [
  {
   "cell_type": "markdown",
   "metadata": {},
   "source": [
    "# Multi-label Land Cover Classification with BigEarthNet\n",
    "\n",
    "## Split Train-Valid-Test\n",
    "\n",
    "## 2020년 09월 08일 안상호\n",
    "\n"
   ]
  },
  {
   "cell_type": "markdown",
   "metadata": {},
   "source": [
    "---\n",
    "\n",
    "# Requirement"
   ]
  },
  {
   "cell_type": "code",
   "execution_count": 3,
   "metadata": {
    "ExecuteTime": {
     "end_time": "2020-09-08T05:32:41.737203Z",
     "start_time": "2020-09-08T05:32:41.731172Z"
    }
   },
   "outputs": [],
   "source": [
    "from pathlib import Path\n",
    "\n",
    "# Sangho Workspace|\n",
    "root_dir = Path(\"/home/jovyan/\")\n",
    "base_dir = root_dir  / 'Land-Cls'\n",
    "\n",
    "data_path = base_dir / \"data\" \n",
    "\n",
    "bigearth_path = data_path / \"bigearth\"\n",
    "output_path = bigearth_path / \"train-labels.csv\"\n",
    "\n",
    "cloud_shadow_path = bigearth_path / \"patches_with_cloud_and_shadow.csv\"\n",
    "snow_path = bigearth_path / \"patches_with_seasonal_snow.csv\""
   ]
  },
  {
   "cell_type": "code",
   "execution_count": 2,
   "metadata": {
    "ExecuteTime": {
     "end_time": "2020-09-08T05:32:25.854337Z",
     "start_time": "2020-09-08T05:32:25.847646Z"
    }
   },
   "outputs": [],
   "source": [
    "import sys\n",
    "import os\n",
    "\n",
    "# Google Colab Version\n",
    "# sys.path.append(str(base_dir))\n",
    "\n",
    "\n",
    "# Local Version\n",
    "PACKAGE_PARENT = '..'\n",
    "SCRIPT_DIR = os.path.dirname(os.path.realpath(os.path.join(os.getcwd(), os.path.expanduser(\"__file__\"))))\n",
    "sys.path.append(os.path.normpath(os.path.join(SCRIPT_DIR, PACKAGE_PARENT)))"
   ]
  },
  {
   "cell_type": "code",
   "execution_count": 15,
   "metadata": {
    "ExecuteTime": {
     "end_time": "2020-09-08T05:38:20.512909Z",
     "start_time": "2020-09-08T05:38:20.509357Z"
    }
   },
   "outputs": [],
   "source": [
    "import pandas as pd\n",
    "import numpy as np"
   ]
  },
  {
   "cell_type": "markdown",
   "metadata": {},
   "source": [
    "# 1. BigEarthNet Pre-split Set\n",
    "\n",
    "BigEarthNet 에서는 이미 Train-Valid-Test를 만들어두었다.\n",
    "\n",
    "이 데이터에는 Cloud-Shadw 패치나, Snow 패치 등이 이미 빠져있는 데이터이다.\n",
    "\n",
    "https://gitlab.tubit.tu-berlin.de/rsim/bigearthnet-models/tree/master/splits"
   ]
  },
  {
   "cell_type": "code",
   "execution_count": 8,
   "metadata": {
    "ExecuteTime": {
     "end_time": "2020-09-08T05:36:49.490064Z",
     "start_time": "2020-09-08T05:36:49.002253Z"
    }
   },
   "outputs": [],
   "source": [
    "df_train = pd.read_csv(bigearth_path / \"split\" / \"train.csv\", header=None)\n",
    "df_valid = pd.read_csv(bigearth_path / \"split\" / \"val.csv\", header=None)\n",
    "df_test = pd.read_csv(bigearth_path / \"split\" / \"test.csv\", header=None)"
   ]
  },
  {
   "cell_type": "code",
   "execution_count": 20,
   "metadata": {
    "ExecuteTime": {
     "end_time": "2020-09-08T05:49:01.866559Z",
     "start_time": "2020-09-08T05:49:01.858878Z"
    }
   },
   "outputs": [
    {
     "name": "stdout",
     "output_type": "stream",
     "text": [
      "[0.51935935 0.23825691 0.24238374]\n",
      "519284\n"
     ]
    }
   ],
   "source": [
    "split_pct = np.array([df_train.shape[0], df_valid.shape[0], df_test.shape[0]])\n",
    "print(split_pct / sum(split_pct))\n",
    "print(sum(split_pct))"
   ]
  },
  {
   "cell_type": "code",
   "execution_count": 24,
   "metadata": {
    "ExecuteTime": {
     "end_time": "2020-09-08T05:50:41.203518Z",
     "start_time": "2020-09-08T05:50:40.293715Z"
    }
   },
   "outputs": [
    {
     "data": {
      "text/html": [
       "<div>\n",
       "<style scoped>\n",
       "    .dataframe tbody tr th:only-of-type {\n",
       "        vertical-align: middle;\n",
       "    }\n",
       "\n",
       "    .dataframe tbody tr th {\n",
       "        vertical-align: top;\n",
       "    }\n",
       "\n",
       "    .dataframe thead th {\n",
       "        text-align: right;\n",
       "    }\n",
       "</style>\n",
       "<table border=\"1\" class=\"dataframe\">\n",
       "  <thead>\n",
       "    <tr style=\"text-align: right;\">\n",
       "      <th></th>\n",
       "      <th>image_name</th>\n",
       "      <th>label</th>\n",
       "    </tr>\n",
       "  </thead>\n",
       "  <tbody>\n",
       "    <tr>\n",
       "      <th>0</th>\n",
       "      <td>S2A_MSIL2A_20180508T104031_26_63.jpg</td>\n",
       "      <td>Non-irrigated arable land;Pastures;Land princi...</td>\n",
       "    </tr>\n",
       "    <tr>\n",
       "      <th>1</th>\n",
       "      <td>S2A_MSIL2A_20180318T093031_50_50.jpg</td>\n",
       "      <td>Non-irrigated arable land;Pastures;Complex cul...</td>\n",
       "    </tr>\n",
       "    <tr>\n",
       "      <th>2</th>\n",
       "      <td>S2A_MSIL2A_20171002T112112_74_52.jpg</td>\n",
       "      <td>Land principally occupied by agriculture, with...</td>\n",
       "    </tr>\n",
       "    <tr>\n",
       "      <th>3</th>\n",
       "      <td>S2A_MSIL2A_20171015T095031_26_65.jpg</td>\n",
       "      <td>Discontinuous urban fabric;Non-irrigated arabl...</td>\n",
       "    </tr>\n",
       "    <tr>\n",
       "      <th>4</th>\n",
       "      <td>S2B_MSIL2A_20170927T094019_7_19.jpg</td>\n",
       "      <td>Non-irrigated arable land;Complex cultivation ...</td>\n",
       "    </tr>\n",
       "    <tr>\n",
       "      <th>...</th>\n",
       "      <td>...</td>\n",
       "      <td>...</td>\n",
       "    </tr>\n",
       "    <tr>\n",
       "      <th>519334</th>\n",
       "      <td>S2B_MSIL2A_20180225T105019_47_4.jpg</td>\n",
       "      <td>Discontinuous urban fabric;Sport and leisure f...</td>\n",
       "    </tr>\n",
       "    <tr>\n",
       "      <th>519335</th>\n",
       "      <td>S2B_MSIL2A_20180511T100029_87_84.jpg</td>\n",
       "      <td>Sea and ocean</td>\n",
       "    </tr>\n",
       "    <tr>\n",
       "      <th>519336</th>\n",
       "      <td>S2B_MSIL2A_20170808T094029_3_78.jpg</td>\n",
       "      <td>Non-irrigated arable land;Land principally occ...</td>\n",
       "    </tr>\n",
       "    <tr>\n",
       "      <th>519337</th>\n",
       "      <td>S2B_MSIL2A_20180525T94031_49_10.jpg</td>\n",
       "      <td>Land principally occupied by agriculture, with...</td>\n",
       "    </tr>\n",
       "    <tr>\n",
       "      <th>519338</th>\n",
       "      <td>S2B_MSIL2A_20180421T100031_23_85.jpg</td>\n",
       "      <td>Discontinuous urban fabric;Non-irrigated arabl...</td>\n",
       "    </tr>\n",
       "  </tbody>\n",
       "</table>\n",
       "<p>519339 rows × 2 columns</p>\n",
       "</div>"
      ],
      "text/plain": [
       "                                  image_name  \\\n",
       "0       S2A_MSIL2A_20180508T104031_26_63.jpg   \n",
       "1       S2A_MSIL2A_20180318T093031_50_50.jpg   \n",
       "2       S2A_MSIL2A_20171002T112112_74_52.jpg   \n",
       "3       S2A_MSIL2A_20171015T095031_26_65.jpg   \n",
       "4        S2B_MSIL2A_20170927T094019_7_19.jpg   \n",
       "...                                      ...   \n",
       "519334   S2B_MSIL2A_20180225T105019_47_4.jpg   \n",
       "519335  S2B_MSIL2A_20180511T100029_87_84.jpg   \n",
       "519336   S2B_MSIL2A_20170808T094029_3_78.jpg   \n",
       "519337   S2B_MSIL2A_20180525T94031_49_10.jpg   \n",
       "519338  S2B_MSIL2A_20180421T100031_23_85.jpg   \n",
       "\n",
       "                                                    label  \n",
       "0       Non-irrigated arable land;Pastures;Land princi...  \n",
       "1       Non-irrigated arable land;Pastures;Complex cul...  \n",
       "2       Land principally occupied by agriculture, with...  \n",
       "3       Discontinuous urban fabric;Non-irrigated arabl...  \n",
       "4       Non-irrigated arable land;Complex cultivation ...  \n",
       "...                                                   ...  \n",
       "519334  Discontinuous urban fabric;Sport and leisure f...  \n",
       "519335                                      Sea and ocean  \n",
       "519336  Non-irrigated arable land;Land principally occ...  \n",
       "519337  Land principally occupied by agriculture, with...  \n",
       "519338  Discontinuous urban fabric;Non-irrigated arabl...  \n",
       "\n",
       "[519339 rows x 2 columns]"
      ]
     },
     "execution_count": 24,
     "metadata": {},
     "output_type": "execute_result"
    }
   ],
   "source": [
    "df_total = pd.read_csv(bigearth_path / \"train-label.csv\")\n"
   ]
  },
  {
   "cell_type": "markdown",
   "metadata": {},
   "source": [
    "# 2. Save Train-Valid-Test"
   ]
  },
  {
   "cell_type": "code",
   "execution_count": 31,
   "metadata": {
    "ExecuteTime": {
     "end_time": "2020-09-08T06:19:33.366808Z",
     "start_time": "2020-09-08T06:19:33.362842Z"
    }
   },
   "outputs": [],
   "source": [
    "def extract_by_series(df, col, series):\n",
    "    return df[df[col].isin(series)]\n"
   ]
  },
  {
   "cell_type": "code",
   "execution_count": 34,
   "metadata": {
    "ExecuteTime": {
     "end_time": "2020-09-08T06:21:47.368514Z",
     "start_time": "2020-09-08T06:21:45.322694Z"
    }
   },
   "outputs": [],
   "source": [
    "extract_by_series(df_total, \"image_name\", df_train[0].apply(lambda x: x + \".jpg\")).to_csv(bigearth_path / \"train-label.csv\", index=False)"
   ]
  },
  {
   "cell_type": "code",
   "execution_count": 35,
   "metadata": {
    "ExecuteTime": {
     "end_time": "2020-09-08T06:21:59.266976Z",
     "start_time": "2020-09-08T06:21:58.208929Z"
    }
   },
   "outputs": [],
   "source": [
    "extract_by_series(df_total, \"image_name\", df_valid[0].apply(lambda x: x + \".jpg\")).to_csv(bigearth_path / \"valid-label.csv\", index=False)"
   ]
  },
  {
   "cell_type": "code",
   "execution_count": 36,
   "metadata": {
    "ExecuteTime": {
     "end_time": "2020-09-08T06:22:26.673364Z",
     "start_time": "2020-09-08T06:22:25.635687Z"
    }
   },
   "outputs": [],
   "source": [
    "extract_by_series(df_total, \"image_name\", df_test[0].apply(lambda x: x + \".jpg\")).to_csv(bigearth_path / \"test-label.csv\", index=False)"
   ]
  },
  {
   "cell_type": "code",
   "execution_count": null,
   "metadata": {},
   "outputs": [],
   "source": []
  }
 ],
 "metadata": {
  "kernelspec": {
   "display_name": "Python 3",
   "language": "python",
   "name": "python3"
  },
  "language_info": {
   "codemirror_mode": {
    "name": "ipython",
    "version": 3
   },
   "file_extension": ".py",
   "mimetype": "text/x-python",
   "name": "python",
   "nbconvert_exporter": "python",
   "pygments_lexer": "ipython3",
   "version": "3.7.6"
  },
  "toc": {
   "base_numbering": 1,
   "nav_menu": {},
   "number_sections": false,
   "sideBar": true,
   "skip_h1_title": false,
   "title_cell": "Table of Contents",
   "title_sidebar": "Contents",
   "toc_cell": false,
   "toc_position": {},
   "toc_section_display": true,
   "toc_window_display": true
  }
 },
 "nbformat": 4,
 "nbformat_minor": 4
}
